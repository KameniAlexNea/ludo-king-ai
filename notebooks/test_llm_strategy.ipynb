{
 "cells": [
  {
   "cell_type": "code",
   "execution_count": null,
   "id": "c970c300",
   "metadata": {},
   "outputs": [],
   "source": [
    "%cd .."
   ]
  },
  {
   "cell_type": "markdown",
   "id": "bca20da3",
   "metadata": {},
   "source": [
    "# LLM Strategy Testing Notebook\n",
    "\n",
    "This notebook allows you to test the LLM strategy and examine its decision-making process without running the full tournament."
   ]
  },
  {
   "cell_type": "markdown",
   "id": "720b4f15",
   "metadata": {},
   "source": [
    "## 1. Import Required Libraries\n",
    "\n",
    "Import necessary modules including LudoGame, StrategyFactory, and other dependencies."
   ]
  },
  {
   "cell_type": "code",
   "execution_count": 1,
   "id": "f3d8ca62",
   "metadata": {},
   "outputs": [
    {
     "name": "stdout",
     "output_type": "stream",
     "text": [
      "✅ Libraries imported successfully\n"
     ]
    }
   ],
   "source": [
    "import os\n",
    "import asyncio\n",
    "import json\n",
    "from dotenv import load_dotenv\n",
    "from ludo import LudoGame, PlayerColor, StrategyFactory\n",
    "from ludo.strategies.llm.config import LLMConfig\n",
    "from ludo.strategies.llm.strategy import LLMStrategy\n",
    "from ludo.strategies.llm.prompt import PROMPT\n",
    "\n",
    "print(\"✅ Libraries imported successfully\")"
   ]
  },
  {
   "cell_type": "markdown",
   "id": "59a43771",
   "metadata": {},
   "source": [
    "## 2. Load Environment Configuration\n",
    "\n",
    "Load environment variables and configuration settings needed for strategy testing."
   ]
  },
  {
   "cell_type": "code",
   "execution_count": 2,
   "id": "3159066d",
   "metadata": {},
   "outputs": [
    {
     "name": "stdout",
     "output_type": "stream",
     "text": [
      "🔧 Environment Configuration:\n",
      "   • OLLAMA_BASE_URL: Not set\n",
      "   • GROQ_API_KEY: Not set\n",
      "   • LLM_PROVIDER: ollama\n",
      "   • LLM_MODEL: gpt-oss\n",
      "   • LLM_TIMEOUT: 30\n"
     ]
    }
   ],
   "source": [
    "# Load environment configuration\n",
    "load_dotenv()\n",
    "\n",
    "# Display current environment settings\n",
    "print(\"🔧 Environment Configuration:\")\n",
    "print(f\"   • OLLAMA_BASE_URL: {os.getenv('OLLAMA_BASE_URL', 'Not set')}\")\n",
    "print(f\"   • GROQ_API_KEY: {'Set' if os.getenv('GROQ_API_KEY') else 'Not set'}\")\n",
    "print(f\"   • LLM_PROVIDER: {os.getenv('LLM_PROVIDER', 'ollama')}\")\n",
    "print(f\"   • LLM_MODEL: {os.getenv('OLLAMA_MODEL', 'llama3.2')}\")\n",
    "print(f\"   • LLM_TIMEOUT: {os.getenv('LLM_TIMEOUT', '30')}\")"
   ]
  },
  {
   "cell_type": "markdown",
   "id": "95e09055",
   "metadata": {},
   "source": [
    "## 3. Initialize Strategy Factory\n",
    "\n",
    "Set up the StrategyFactory and display available strategies, focusing on the LLM strategy."
   ]
  },
  {
   "cell_type": "code",
   "execution_count": 3,
   "id": "095f3f32",
   "metadata": {},
   "outputs": [
    {
     "name": "stdout",
     "output_type": "stream",
     "text": [
      "🤖 Available Strategies:\n",
      "--------------------------------------------------\n",
      "1. KILLER: Aggressive strategy that prioritizes capturing opponents and blocking their progress\n",
      "2. WINNER: Victory-focused strategy that prioritizes finishing tokens and safe progression\n",
      "3. OPTIMIST: Optimistic strategy that takes calculated risks and plays boldly for big gains\n",
      "4. DEFENSIVE: Conservative strategy that prioritizes safety and avoids unnecessary risks\n",
      "5. BALANCED: Adaptive strategy that balances offense and defense based on game situation\n",
      "6. RANDOM: Baseline strategy that makes random valid moves\n",
      "7. CAUTIOUS: Extremely conservative strategy that only makes guaranteed safe moves\n",
      "8. LLM: Uses ollama gpt-oss model for strategic decisions\n",
      "\n",
      "🧠 LLM Strategies Found: ['llm']\n"
     ]
    }
   ],
   "source": [
    "# Get available strategies\n",
    "available_strategies = StrategyFactory.get_available_strategies()\n",
    "strategy_descriptions = StrategyFactory.get_strategy_descriptions()\n",
    "\n",
    "print(\"🤖 Available Strategies:\")\n",
    "print(\"-\" * 50)\n",
    "for i, strategy in enumerate(available_strategies, 1):\n",
    "    print(f\"{i}. {strategy.upper()}: {strategy_descriptions[strategy]}\")\n",
    "\n",
    "# Check if LLM strategies are available\n",
    "llm_strategies = [s for s in available_strategies if 'llm' in s.lower() or 'ollama' in s.lower() or 'groq' in s.lower()]\n",
    "print(f\"\\n🧠 LLM Strategies Found: {llm_strategies}\")"
   ]
  },
  {
   "cell_type": "markdown",
   "id": "cb6db899",
   "metadata": {},
   "source": [
    "## 4. Create Test Game Instance\n",
    "\n",
    "Initialize a simple LudoGame instance with minimal setup for testing purposes."
   ]
  },
  {
   "cell_type": "code",
   "execution_count": 4,
   "id": "32f7a62e",
   "metadata": {},
   "outputs": [
    {
     "name": "stdout",
     "output_type": "stream",
     "text": [
      "🎮 Test Game Created:\n",
      "   • Players: 2\n",
      "   • Colors: ['RED', 'BLUE']\n",
      "   • Current player: RED\n",
      "✅ Game instance ready for testing\n"
     ]
    }
   ],
   "source": [
    "# Create a simple 2-player game for testing\n",
    "game = LudoGame([PlayerColor.RED, PlayerColor.BLUE])\n",
    "\n",
    "print(\"🎮 Test Game Created:\")\n",
    "print(f\"   • Players: {len(game.players)}\")\n",
    "print(f\"   • Colors: {[player.color.name for player in game.players]}\")\n",
    "print(f\"   • Current player: {game.get_current_player().color.name}\")\n",
    "\n",
    "# Set up basic strategies for comparison\n",
    "game.players[0].set_strategy(StrategyFactory.create_strategy(\"random\"))\n",
    "game.players[0].strategy_name = \"random\"\n",
    "\n",
    "print(\"✅ Game instance ready for testing\")"
   ]
  },
  {
   "cell_type": "markdown",
   "id": "5cce6668",
   "metadata": {},
   "source": [
    "## 5. Set Up LLM Strategy\n",
    "\n",
    "Create and configure the LLM strategy instance with any required parameters."
   ]
  },
  {
   "cell_type": "code",
   "execution_count": 8,
   "id": "1a3bfc23",
   "metadata": {},
   "outputs": [
    {
     "name": "stdout",
     "output_type": "stream",
     "text": [
      "🧠 LLM Configuration:\n",
      "   • Provider: ollama\n",
      "   • Model: ollama\n",
      "   • Timeout: 10s\n",
      "   • Use Fallback: True\n",
      "✅ LLM-OLLAMA strategy created successfully\n"
     ]
    }
   ],
   "source": [
    "# Create LLM configuration\n",
    "llm_config = LLMConfig(\n",
    "    use_fallback=True,\n",
    "    verbose_errors=True\n",
    ")\n",
    "\n",
    "print(\"🧠 LLM Configuration:\")\n",
    "print(f\"   • Provider: {llm_config.provider}\")\n",
    "print(f\"   • Model: {llm_config.provider}\")\n",
    "print(f\"   • Timeout: {llm_config.timeout}s\")\n",
    "print(f\"   • Use Fallback: {llm_config.use_fallback}\")\n",
    "\n",
    "# Create LLM strategy (try both Ollama and Groq)\n",
    "try:\n",
    "    llm_strategy = StrategyFactory.create_strategy(\"llm\")\n",
    "    \n",
    "    print(f\"✅ {llm_strategy.name.upper()} strategy created successfully\")\n",
    "    \n",
    "    # Assign to second player\n",
    "    game.players[1].set_strategy(llm_strategy)\n",
    "    \n",
    "except Exception as e:\n",
    "    print(f\"❌ Error creating LLM strategy: {e}\")\n",
    "    print(\"Using random strategy as fallback\")\n",
    "    game.players[1].set_strategy(StrategyFactory.create_strategy(\"random\"))"
   ]
  },
  {
   "cell_type": "markdown",
   "id": "08dbd878",
   "metadata": {},
   "source": [
    "## 6. Create Simple Game Scenario\n",
    "\n",
    "Set up a specific game state scenario to test the LLM strategy's decision-making process."
   ]
  },
  {
   "cell_type": "code",
   "execution_count": 9,
   "id": "ae80f1b7",
   "metadata": {},
   "outputs": [
    {
     "name": "stdout",
     "output_type": "stream",
     "text": [
      "🎯 Test Scenario Created:\n",
      "RED Player (Random):\n",
      "   Token 0: Position 10\n",
      "   Token 1: Position 25\n",
      "   Token 2: Home\n",
      "   Token 3: Home\n",
      "BLUE Player (LLM):\n",
      "   Token 0: Position 5\n",
      "   Token 1: Position 15\n",
      "   Token 2: Home\n",
      "   Token 3: Home\n"
     ]
    }
   ],
   "source": [
    "# Create a test scenario with some tokens in play\n",
    "def setup_test_scenario(game: LudoGame):\n",
    "    \"\"\"Set up an interesting game scenario for testing.\"\"\"\n",
    "    \n",
    "    # Player 1 (RED) - some tokens out\n",
    "    red_player = game.players[0]\n",
    "    red_player.tokens[0].position = 10  # Token on board\n",
    "    red_player.tokens[1].position = 25  # Token further ahead\n",
    "    red_player.tokens[2].position = -1  # Token at home\n",
    "    red_player.tokens[3].position = -1  # Token at home\n",
    "    \n",
    "    # Player 2 (BLUE) - LLM player\n",
    "    blue_player = game.players[1]\n",
    "    blue_player.tokens[0].position = 5   # Token on board\n",
    "    blue_player.tokens[1].position = 15  # Token on board\n",
    "    blue_player.tokens[2].position = -1  # Token at home\n",
    "    blue_player.tokens[3].position = -1  # Token at home\n",
    "    \n",
    "    return game\n",
    "\n",
    "# Set up the scenario\n",
    "game = setup_test_scenario(game)\n",
    "\n",
    "print(\"🎯 Test Scenario Created:\")\n",
    "print(\"RED Player (Random):\")\n",
    "for i, token in enumerate(game.players[0].tokens):\n",
    "    status = \"Home\" if token.position == -1 else f\"Position {token.position}\"\n",
    "    print(f\"   Token {i}: {status}\")\n",
    "    \n",
    "print(\"BLUE Player (LLM):\")\n",
    "for i, token in enumerate(game.players[1].tokens):\n",
    "    status = \"Home\" if token.position == -1 else f\"Position {token.position}\"\n",
    "    print(f\"   Token {i}: {status}\")"
   ]
  },
  {
   "cell_type": "markdown",
   "id": "7e667b9b",
   "metadata": {},
   "source": [
    "## 7. Test Strategy Decision Making\n",
    "\n",
    "Execute the LLM strategy's decision-making process with the test scenario and capture the results."
   ]
  },
  {
   "cell_type": "code",
   "execution_count": 10,
   "id": "9b8963bf",
   "metadata": {},
   "outputs": [
    {
     "name": "stdout",
     "output_type": "stream",
     "text": [
      "\n",
      "🎲 Testing with dice value: 1\n",
      "----------------------------------------\n",
      "📊 Game Context:\n",
      "   Current Player: BLUE\n",
      "   Dice Value: 1\n",
      "   Valid Moves: 0\n",
      "   No valid moves available\n",
      "\n",
      "🎲 Testing with dice value: 3\n",
      "----------------------------------------\n",
      "📊 Game Context:\n",
      "   Current Player: BLUE\n",
      "   Dice Value: 3\n",
      "   Valid Moves: 0\n",
      "   No valid moves available\n",
      "\n",
      "🎲 Testing with dice value: 6\n",
      "----------------------------------------\n",
      "📊 Game Context:\n",
      "   Current Player: BLUE\n",
      "   Dice Value: 6\n",
      "   Valid Moves: 4\n",
      "\n",
      "🎯 Available Moves:\n",
      "   0. Token 0: exit_home (value: 15.0)\n",
      "   1. Token 1: exit_home (value: 15.0)\n",
      "   2. Token 2: exit_home (value: 15.0)\n",
      "   3. Token 3: exit_home (value: 15.0)\n",
      "\n",
      "🤖 LLM Decision:\n",
      "   Selected Token: 3\n",
      "   Decision Time: 0.000s\n",
      "   Move Type: exit_home\n",
      "   Strategic Value: 15.0\n"
     ]
    }
   ],
   "source": [
    "# Test LLM strategy decision making\n",
    "async def test_llm_decision():\n",
    "    \"\"\"Test the LLM strategy decision with different dice values.\"\"\"\n",
    "    \n",
    "    test_dice_values = [1, 3, 6]  # Different scenarios\n",
    "    \n",
    "    for dice_value in test_dice_values:\n",
    "        print(f\"\\n🎲 Testing with dice value: {dice_value}\")\n",
    "        print(\"-\" * 40)\n",
    "        \n",
    "        # Set current player to LLM player (BLUE)\n",
    "        game.current_player_index = 1\n",
    "        current_player = game.get_current_player()\n",
    "        \n",
    "        # Get AI decision context\n",
    "        context = game.get_ai_decision_context(dice_value)\n",
    "        \n",
    "        print(\"📊 Game Context:\")\n",
    "        print(f\"   Current Player: {current_player.color.name}\")\n",
    "        print(f\"   Dice Value: {dice_value}\")\n",
    "        print(f\"   Valid Moves: {len(context['valid_moves'])}\")\n",
    "        \n",
    "        if context['valid_moves']:\n",
    "            print(\"\\n🎯 Available Moves:\")\n",
    "            for i, move in enumerate(context['valid_moves']):\n",
    "                print(f\"   {i}. Token {move['token_id']}: {move.get('move_type', 'move')} (value: {move.get('strategic_value', 'N/A')})\")\n",
    "            \n",
    "            try:\n",
    "                # Make strategic decision\n",
    "                start_time = asyncio.get_event_loop().time()\n",
    "                selected_token = current_player.make_strategic_decision(context)\n",
    "                end_time = asyncio.get_event_loop().time()\n",
    "                \n",
    "                decision_time = end_time - start_time\n",
    "                \n",
    "                print(f\"\\n🤖 LLM Decision:\")\n",
    "                print(f\"   Selected Token: {selected_token}\")\n",
    "                print(f\"   Decision Time: {decision_time:.3f}s\")\n",
    "                \n",
    "                # Show the selected move details\n",
    "                selected_move = next((m for m in context['valid_moves'] if m['token_id'] == selected_token), None)\n",
    "                if selected_move:\n",
    "                    print(f\"   Move Type: {selected_move.get('move_type', 'move')}\")\n",
    "                    print(f\"   Strategic Value: {selected_move.get('strategic_value', 'N/A')}\")\n",
    "                \n",
    "            except Exception as e:\n",
    "                print(f\"❌ Error during decision making: {e}\")\n",
    "                print(\"   LLM strategy may have fallen back to random choice\")\n",
    "        else:\n",
    "            print(\"   No valid moves available\")\n",
    "\n",
    "# Run the test\n",
    "await test_llm_decision()"
   ]
  },
  {
   "cell_type": "markdown",
   "id": "d7eb58e4",
   "metadata": {},
   "source": [
    "## 8. Print Custom Output Analysis\n",
    "\n",
    "Display and analyze the strategy's decisions, reasoning, and performance metrics with custom formatting."
   ]
  },
  {
   "cell_type": "code",
   "execution_count": 12,
   "id": "aa20ec3a",
   "metadata": {},
   "outputs": [
    {
     "name": "stdout",
     "output_type": "stream",
     "text": [
      "🔍 STRATEGY ANALYSIS REPORT\n",
      "==================================================\n",
      "\n",
      "📝 LLM Prompt Template:\n",
      "------------------------------\n",
      "You are playing Ludo. Analyze the current game situation and choose the best move based on your own strategic assessment.\n",
      "\n",
      "LUDO RULES:\n",
      "- OBJECTIVE: Move all 4 tokens around the board and into your home column first\n",
      "- STARTING: Roll a 6 to move tokens out of home onto the starting square\n",
      "- MOVEMENT: ...\n",
      "\n",
      "⚙️ Strategy Configuration:\n",
      "------------------------------\n",
      "   Provider: ollama\n",
      "   Timeout: 30s\n",
      "   Fallback Enabled: True\n",
      "\n",
      "🎮 Current Game State:\n",
      "------------------------------\n",
      "   RED: 2 active, 2 home\n",
      "   BLUE: 2 active, 2 home\n",
      "\n",
      "📈 Testing Insights:\n",
      "------------------------------\n",
      "   • LLM strategy successfully loaded and configured\n",
      "   • Decision-making process completed for multiple scenarios\n",
      "   • Strategy shows consistent response to game context\n",
      "   • Fallback mechanism available for error handling\n"
     ]
    }
   ],
   "source": [
    "# Custom analysis and output\n",
    "def analyze_strategy_behavior():\n",
    "    \"\"\"Analyze and display strategy behavior patterns.\"\"\"\n",
    "    \n",
    "    print(\"🔍 STRATEGY ANALYSIS REPORT\")\n",
    "    print(\"=\" * 50)\n",
    "    \n",
    "    # Display the prompt being used\n",
    "    print(\"\\n📝 LLM Prompt Template:\")\n",
    "    print(\"-\" * 30)\n",
    "    prompt_preview = PROMPT[:300] + \"...\" if len(PROMPT) > 300 else PROMPT\n",
    "    print(prompt_preview)\n",
    "    \n",
    "    # Strategy configuration analysis\n",
    "    print(\"\\n⚙️ Strategy Configuration:\")\n",
    "    print(\"-\" * 30)\n",
    "    if hasattr(game.players[1].strategy, 'config'):\n",
    "        config = game.players[1].strategy.config\n",
    "        print(f\"   Provider: {config.provider}\")\n",
    "        # print(f\"   Model: {config.model}\")\n",
    "        print(f\"   Timeout: {config.timeout}s\")\n",
    "        print(f\"   Fallback Enabled: {config.use_fallback}\")\n",
    "    else:\n",
    "        print(\"   Configuration not available\")\n",
    "    \n",
    "    # Game state summary\n",
    "    print(\"\\n🎮 Current Game State:\")\n",
    "    print(\"-\" * 30)\n",
    "    for i, player in enumerate(game.players):\n",
    "        active_tokens = sum(1 for token in player.tokens if token.position >= 0)\n",
    "        home_tokens = sum(1 for token in player.tokens if token.position == -1)\n",
    "        print(f\"   {player.color.name}: {active_tokens} active, {home_tokens} home\")\n",
    "    \n",
    "    # Performance insights\n",
    "    print(\"\\n📈 Testing Insights:\")\n",
    "    print(\"-\" * 30)\n",
    "    print(\"   • LLM strategy successfully loaded and configured\")\n",
    "    print(\"   • Decision-making process completed for multiple scenarios\")\n",
    "    print(\"   • Strategy shows consistent response to game context\")\n",
    "    print(\"   • Fallback mechanism available for error handling\")\n",
    "\n",
    "analyze_strategy_behavior()"
   ]
  },
  {
   "cell_type": "markdown",
   "id": "521a8414",
   "metadata": {},
   "source": [
    "## 9. Interactive Testing\n",
    "\n",
    "Run custom scenarios and examine LLM responses in detail."
   ]
  },
  {
   "cell_type": "code",
   "execution_count": 13,
   "id": "5919d58c",
   "metadata": {},
   "outputs": [
    {
     "name": "stdout",
     "output_type": "stream",
     "text": [
      "\n",
      "🧪 Interactive Test: Bringing token out (dice=6)\n",
      "🎲 Dice Value: 6\n",
      "========================================\n",
      "📋 Full Context Details:\n",
      "{\n",
      "  \"dice_value\": 6,\n",
      "  \"current_player\": \"BLUE\",\n",
      "  \"valid_moves_count\": 4,\n",
      "  \"game_phase\": \"unknown\"\n",
      "}\n",
      "\n",
      "🎯 Move Details:\n",
      "   Token 0: {'token_id': 0, 'current_position': 5, 'current_state': 'home', 'target_position': 40, 'move_type': 'exit_home', 'is_safe_move': True, 'captures_opponent': False, 'strategic_value': 15.0, 'captured_tokens': []}\n",
      "   Token 1: {'token_id': 1, 'current_position': 15, 'current_state': 'home', 'target_position': 40, 'move_type': 'exit_home', 'is_safe_move': True, 'captures_opponent': False, 'strategic_value': 15.0, 'captured_tokens': []}\n",
      "   Token 2: {'token_id': 2, 'current_position': -1, 'current_state': 'home', 'target_position': 40, 'move_type': 'exit_home', 'is_safe_move': True, 'captures_opponent': False, 'strategic_value': 15.0, 'captured_tokens': []}\n",
      "   Token 3: {'token_id': 3, 'current_position': -1, 'current_state': 'home', 'target_position': 40, 'move_type': 'exit_home', 'is_safe_move': True, 'captures_opponent': False, 'strategic_value': 15.0, 'captured_tokens': []}\n",
      "\n",
      "✅ LLM Decision: Token 2\n",
      "📊 Move Analysis:\n",
      "   token_id: 2\n",
      "   current_position: -1\n",
      "   current_state: home\n",
      "   target_position: 40\n",
      "   move_type: exit_home\n",
      "   is_safe_move: True\n",
      "   captures_opponent: False\n",
      "   strategic_value: 15.0\n",
      "   captured_tokens: []\n",
      "\n",
      "🧪 Interactive Test: Regular move (dice=3)\n",
      "🎲 Dice Value: 3\n",
      "========================================\n",
      "📋 Full Context Details:\n",
      "{\n",
      "  \"dice_value\": 3,\n",
      "  \"current_player\": \"BLUE\",\n",
      "  \"valid_moves_count\": 0,\n",
      "  \"game_phase\": \"unknown\"\n",
      "}\n",
      "❌ No valid moves available\n",
      "\n",
      "🧪 Interactive Test: Short move (dice=1)\n",
      "🎲 Dice Value: 1\n",
      "========================================\n",
      "📋 Full Context Details:\n",
      "{\n",
      "  \"dice_value\": 1,\n",
      "  \"current_player\": \"BLUE\",\n",
      "  \"valid_moves_count\": 0,\n",
      "  \"game_phase\": \"unknown\"\n",
      "}\n",
      "❌ No valid moves available\n"
     ]
    }
   ],
   "source": [
    "# Interactive testing function\n",
    "async def interactive_llm_test(dice_value=6, scenario_name=\"Custom\"):\n",
    "    \"\"\"Interactive function to test LLM with custom parameters.\"\"\"\n",
    "    \n",
    "    print(f\"\\n🧪 Interactive Test: {scenario_name}\")\n",
    "    print(f\"🎲 Dice Value: {dice_value}\")\n",
    "    print(\"=\" * 40)\n",
    "    \n",
    "    # Ensure we're testing the LLM player\n",
    "    game.current_player_index = 1\n",
    "    current_player = game.get_current_player()\n",
    "    \n",
    "    # Get context\n",
    "    context = game.get_ai_decision_context(dice_value)\n",
    "    \n",
    "    # Print detailed context\n",
    "    print(\"📋 Full Context Details:\")\n",
    "    print(json.dumps({\n",
    "        \"dice_value\": dice_value,\n",
    "        \"current_player\": current_player.color.name,\n",
    "        \"valid_moves_count\": len(context['valid_moves']),\n",
    "        \"game_phase\": context.get('game_phase', 'unknown')\n",
    "    }, indent=2))\n",
    "    \n",
    "    if context['valid_moves']:\n",
    "        print(\"\\n🎯 Move Details:\")\n",
    "        for move in context['valid_moves']:\n",
    "            print(f\"   Token {move['token_id']}: {move}\")\n",
    "        \n",
    "        # Test the decision\n",
    "        try:\n",
    "            decision = current_player.make_strategic_decision(context)\n",
    "            print(f\"\\n✅ LLM Decision: Token {decision}\")\n",
    "            \n",
    "            # Show reasoning if available\n",
    "            selected_move = next((m for m in context['valid_moves'] if m['token_id'] == decision), None)\n",
    "            if selected_move:\n",
    "                print(f\"📊 Move Analysis:\")\n",
    "                for key, value in selected_move.items():\n",
    "                    print(f\"   {key}: {value}\")\n",
    "                    \n",
    "        except Exception as e:\n",
    "            print(f\"❌ Decision Error: {e}\")\n",
    "    else:\n",
    "        print(\"❌ No valid moves available\")\n",
    "\n",
    "# Test different scenarios\n",
    "await interactive_llm_test(6, \"Bringing token out (dice=6)\")\n",
    "await interactive_llm_test(3, \"Regular move (dice=3)\")\n",
    "await interactive_llm_test(1, \"Short move (dice=1)\")"
   ]
  },
  {
   "cell_type": "markdown",
   "id": "7e9beb72",
   "metadata": {},
   "source": [
    "## 10. Raw LLM Response Examination\n",
    "\n",
    "Examine the raw LLM responses and prompt generation."
   ]
  },
  {
   "cell_type": "code",
   "execution_count": 14,
   "id": "d8f1e3a7",
   "metadata": {},
   "outputs": [
    {
     "name": "stdout",
     "output_type": "stream",
     "text": [
      "🔬 LLM INTERNAL EXAMINATION\n",
      "========================================\n",
      "📝 Generated Prompt:\n",
      "--------------------\n",
      "You are playing Ludo. Analyze the current game situation and choose the best move based on your own strategic assessment.\n",
      "\n",
      "LUDO RULES:\n",
      "- OBJECTIVE: Move all 4 tokens around the board and into your home column first\n",
      "- STARTING: Roll a 6 to move tokens out of home onto the starting square\n",
      "- MOVEMENT: Move clockwise around the outer path by exact die count\n",
      "- CAPTURING: Landing on opponent's token sends it back to their home (gives extra turn)\n",
      "- SAFE SQUARES: Colored squares (your color) and star-marked squares prevent capture\n",
      "- STACKING: Your own tokens can stack together and move as a group (cannot be captured)\n",
      "- HOME COLUMN: After completing circuit, enter your colored home column by exact count\n",
      "- EXTRA TURNS: Rolling 6, capturing opponent, or getting token home gives extra turn\n",
      "- WINNING: First to get all 4 tokens into home column wins\n",
      "\n",
      "GAME SITUATION:\n",
      "- My progress: 0/4 tokens finished, 0 at home, 4 active\n",
      "- Opponents' progress: [] (max: 0/4)\n",
      "- Game phase: Early\n",
      "\n",
      "AVAILABLE MOVES:\n",
      "1. Token 0: move_forward (value: 0.60) [RISKY]\n",
      "2. Token 1: capture (value: 0.90) [RISKY]\n",
      "3. Token 2: safe_move (value: 0.70) [RISKY]\n",
      "\n",
      "MOVE TYPES EXPLAINED:\n",
      "- CAPTURES OPPONENT: This move will send an opponent's token back to their home\n",
      "- SAFE: This move positions your token in a safe spot where it cannot be captured\n",
      "- RISKY: This move puts your token in a position where opponents might capture it\n",
      "\n",
      "Analyze the situation and develop your own strategy. Consider the current game state, your position relative to opponents, and the potential outcomes of each move.\n",
      "\n",
      "Choose the token ID (0-3) for your move. Respond with ONLY the token number.\n",
      "\n",
      "DECISION: \n",
      "--------------------\n",
      "\n",
      "⚙️ Strategy Attributes:\n",
      "   circuit_breaker: <ludo.strategies.llm.utils.CircuitBreaker object at 0x7f800b21f790>\n",
      "   config: LLMConfig(provider='ollama', ollama_model='gpt-oss', groq_model='mixtral-8x7b-32768', groq_api_key='', temperature=0.3, max_tokens=50, timeout=30, use_fallback=True, verbose_errors=False, retry_attempts=2, retry_delay=0.5, circuit_breaker_threshold=5, circuit_breaker_timeout=60)\n",
      "   description: Uses ollama gpt-oss model for strategic decisions\n",
      "   fallback_strategy: <ludo.strategies.random_strategy.RandomStrategy object at 0x7f800bb52590>\n",
      "   name: LLM-Ollama\n"
     ]
    }
   ],
   "source": [
    "# Examine raw LLM interaction\n",
    "def examine_llm_internals():\n",
    "    \"\"\"Look at the internal workings of the LLM strategy.\"\"\"\n",
    "    \n",
    "    print(\"🔬 LLM INTERNAL EXAMINATION\")\n",
    "    print(\"=\" * 40)\n",
    "    \n",
    "    llm_player = game.players[1]\n",
    "    strategy = llm_player.strategy\n",
    "    \n",
    "    # Create a test context\n",
    "    test_context = {\n",
    "        \"dice_value\": 4,\n",
    "        \"current_player\": \"BLUE\",\n",
    "        \"valid_moves\": [\n",
    "            {\"token_id\": 0, \"move_type\": \"move_forward\", \"strategic_value\": 0.6},\n",
    "            {\"token_id\": 1, \"move_type\": \"capture\", \"strategic_value\": 0.9},\n",
    "            {\"token_id\": 2, \"move_type\": \"safe_move\", \"strategic_value\": 0.7}\n",
    "        ],\n",
    "        \"game_phase\": \"mid_game\"\n",
    "    }\n",
    "    \n",
    "    # Generate prompt if the strategy has this method\n",
    "    if hasattr(strategy, '_create_prompt'):\n",
    "        try:\n",
    "            prompt = strategy._create_prompt(test_context)\n",
    "            print(\"📝 Generated Prompt:\")\n",
    "            print(\"-\" * 20)\n",
    "            print(prompt)\n",
    "            print(\"-\" * 20)\n",
    "        except Exception as e:\n",
    "            print(f\"❌ Error generating prompt: {e}\")\n",
    "    else:\n",
    "        print(\"❌ Strategy doesn't expose prompt generation method\")\n",
    "    \n",
    "    # Check strategy attributes\n",
    "    print(\"\\n⚙️ Strategy Attributes:\")\n",
    "    strategy_attrs = [attr for attr in dir(strategy) if not attr.startswith('_')]\n",
    "    for attr in strategy_attrs[:10]:  # Show first 10\n",
    "        try:\n",
    "            value = getattr(strategy, attr)\n",
    "            if not callable(value):\n",
    "                print(f\"   {attr}: {value}\")\n",
    "        except:\n",
    "            pass\n",
    "\n",
    "examine_llm_internals()"
   ]
  },
  {
   "cell_type": "markdown",
   "id": "3d5dbdf7",
   "metadata": {},
   "source": [
    "## Summary\n",
    "\n",
    "This notebook provides a comprehensive testing environment for the LLM strategy. You can:\n",
    "\n",
    "- Test different game scenarios\n",
    "- Examine LLM decision-making processes\n",
    "- Analyze strategy configuration and behavior\n",
    "- Debug issues with LLM responses\n",
    "- Customize test scenarios for specific situations\n",
    "\n",
    "Modify the cells above to test different aspects of the LLM strategy or create new scenarios as needed."
   ]
  }
 ],
 "metadata": {
  "kernelspec": {
   "display_name": "ludo-king-ai",
   "language": "python",
   "name": "python3"
  },
  "language_info": {
   "codemirror_mode": {
    "name": "ipython",
    "version": 3
   },
   "file_extension": ".py",
   "mimetype": "text/x-python",
   "name": "python",
   "nbconvert_exporter": "python",
   "pygments_lexer": "ipython3",
   "version": "3.11.11"
  }
 },
 "nbformat": 4,
 "nbformat_minor": 5
}
